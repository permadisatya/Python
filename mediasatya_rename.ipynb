{
 "cells": [
  {
   "cell_type": "code",
   "execution_count": 1,
   "metadata": {},
   "outputs": [],
   "source": [
    "import os\n",
    "import pathlib\n",
    "from openpyxl import load_workbook, Workbook"
   ]
  },
  {
   "cell_type": "code",
   "execution_count": 3,
   "metadata": {},
   "outputs": [],
   "source": [
    "path_cwd = os.getcwd()\n",
    "df = []\n",
    "\n",
    "for entry in pathlib.Path(path_cwd).iterdir():\n",
    "    if entry.is_file() and entry.name != 'index.xlsx':\n",
    "        df.append(entry.name)"
   ]
  },
  {
   "cell_type": "code",
   "execution_count": 70,
   "metadata": {},
   "outputs": [],
   "source": [
    "path_cwd = os.getcwd()\n",
    "wb = load_workbook(\"index.xlsx\") \n",
    "sheet = wb[\"tbl_update\"]\n",
    "sheet.cell(row = 1, column = 1).value = \"id_filename\"\n",
    "sheet.cell(row = 1, column = 2).value = \"current_filename\"\n",
    "\n",
    "file_id = []\n",
    "file_name = []\n",
    "\n",
    "for entry in pathlib.Path(path_cwd).iterdir():\n",
    "    if entry.is_file() and entry.name != 'index.xlsx':\n",
    "        file_name.append(entry.name)\n",
    "        file_id.append(\"\".join([\"ID\", str(os.path.getctime(entry)).replace(\".\", \"\")]))\n",
    "\n",
    "tbl_file = list(zip(file_id, file_name))\n",
    "\n",
    "for i in range(0, len(file_id)):\n",
    "    sheet.cell(row = i+2, column = 1).value = file_id[i]\n",
    "    sheet.cell(row = i+2, column = 2).value = file_name[i]\n",
    "\n",
    "wb.save('index.xlsx')"
   ]
  },
  {
   "cell_type": "code",
   "execution_count": 126,
   "metadata": {},
   "outputs": [],
   "source": [
    "from posixpath import join\n",
    "\n",
    "\n",
    "path_cwd = os.getcwd()\n",
    "wb = load_workbook(\"index.xlsx\")\n",
    "sheet = wb[\"tbl_update\"]\n",
    "\n",
    "file_id = []\n",
    "file_name = []\n",
    "\n",
    "for entry in pathlib.Path(path_cwd).iterdir():\n",
    "    if entry.is_file() and entry.name != 'index.xlsx':\n",
    "        file_name.append(entry.name)\n",
    "        file_id.append(\"\".join([\"ID\", str(os.path.getctime(entry)).replace(\".\", \"\")]))\n",
    "\n",
    "tbl_file = list(zip(file_id, file_name))\n",
    "\n",
    "# check status existing excel sheet\n",
    "for x, y in zip(sheet[\"A\"], sheet[\"B\"]):\n",
    "    if x.value != \"id_filename\" and y.value != \"current_filename\":\n",
    "        if x.value in file_id and y.value in file_name:\n",
    "            sheet.cell(row = x.row, column = 3).value = \"Existed\"        \n",
    "        elif x.value in file_id and y.value not in file_name:\n",
    "            sheet.cell(row = x.row, column = 3).value = \"Renamed\"\n",
    "            sheet.cell(row = x.row, column = 4).value = sheet.cell(row = x.row, column = 2).value\n",
    "            sheet.cell(row = x.row, column = 2).value = file_name[file_id.index(x.value)] \n",
    "        else:\n",
    "            sheet.cell(row = x.row, column = 3).value = \"F\"\n",
    "\n",
    "# check file in excel sheet\n",
    "for id in file_id:\n",
    "    if id not in [c.value for c in sheet[\"A\"]]:\n",
    "        row = []\n",
    "        for i in sheet[\"A\"]:\n",
    "            if i.value != \"\" and i.value != None:\n",
    "                row.append(i.row)\n",
    "        sheet.cell(row = max(row)+1, column = 1).value = id\n",
    "        sheet.cell(row = max(row)+1, column = 2).value = file_name[file_id.index(id)] \n",
    "        sheet.cell(row = max(row)+1, column = 3).value = \"New\"\n",
    "\n",
    "wb.save('index.xlsx')"
   ]
  },
  {
   "cell_type": "code",
   "execution_count": 120,
   "metadata": {},
   "outputs": [],
   "source": [
    "path_cwd = os.getcwd()\n",
    "wb = load_workbook(\"index.xlsx\")\n",
    "sheet = wb[\"tbl_update\"]\n",
    "\n",
    "\n",
    "a = []\n",
    "for i in sheet[\"A\"]:\n",
    "    if i.value != \"\" and i.value != None:\n",
    "        a.append(i.row)"
   ]
  },
  {
   "cell_type": "code",
   "execution_count": 122,
   "metadata": {},
   "outputs": [
    {
     "data": {
      "text/plain": [
       "9"
      ]
     },
     "execution_count": 122,
     "metadata": {},
     "output_type": "execute_result"
    }
   ],
   "source": [
    "max(a)"
   ]
  },
  {
   "cell_type": "code",
   "execution_count": 115,
   "metadata": {},
   "outputs": [
    {
     "ename": "SyntaxError",
     "evalue": "expected ':' (200115802.py, line 1)",
     "output_type": "error",
     "traceback": [
      "\u001b[1;36m  Input \u001b[1;32mIn [115]\u001b[1;36m\u001b[0m\n\u001b[1;33m    if sheet[\"A\"].value != None\u001b[0m\n\u001b[1;37m                               ^\u001b[0m\n\u001b[1;31mSyntaxError\u001b[0m\u001b[1;31m:\u001b[0m expected ':'\n"
     ]
    }
   ],
   "source": [
    "if sheet[\"A\"].value != None"
   ]
  },
  {
   "cell_type": "code",
   "execution_count": null,
   "metadata": {},
   "outputs": [],
   "source": []
  },
  {
   "cell_type": "code",
   "execution_count": null,
   "metadata": {},
   "outputs": [],
   "source": []
  },
  {
   "cell_type": "code",
   "execution_count": null,
   "metadata": {},
   "outputs": [],
   "source": []
  },
  {
   "cell_type": "code",
   "execution_count": null,
   "metadata": {},
   "outputs": [],
   "source": []
  },
  {
   "cell_type": "code",
   "execution_count": 44,
   "metadata": {},
   "outputs": [
    {
     "data": {
      "text/plain": [
       "24"
      ]
     },
     "execution_count": 44,
     "metadata": {},
     "output_type": "execute_result"
    }
   ],
   "source": [
    "len(os.listdir(path_cwd))\n",
    "print(sheet.move_range(cell_range = x.coordinate, cols = -1).value)"
   ]
  },
  {
   "cell_type": "code",
   "execution_count": 12,
   "metadata": {},
   "outputs": [
    {
     "name": "stdout",
     "output_type": "stream",
     "text": [
      "['data_raw.csv', 'fif clustering indo.html', 'fif clustering indo.ipynb', 'INDO_GRID_SAMPEL.ipynb', 'Kopi Chuseyo.ipynb', 'mediasatya_rename.ipynb', 'mediasatya_rename.py', 'pd.profiling test.html', 'pd.profiling test.ipynb', 'pusat_gadai.csv', 'pusat_gadai.geojson', 'sql']\n"
     ]
    },
    {
     "data": {
      "text/plain": [
       "range(0, 12)"
      ]
     },
     "execution_count": 12,
     "metadata": {},
     "output_type": "execute_result"
    }
   ],
   "source": [
    "print(df)\n",
    "range(0, len(df))"
   ]
  },
  {
   "cell_type": "code",
   "execution_count": 44,
   "metadata": {},
   "outputs": [
    {
     "name": "stderr",
     "output_type": "stream",
     "text": [
      "C:\\Users\\permadisatya\\AppData\\Local\\Temp\\ipykernel_5928\\4075776560.py:4: DeprecationWarning: Call to deprecated function get_sheet_by_name (Use wb[sheetname]).\n",
      "  ws_update = wb.get_sheet_by_name('tbl_update')\n"
     ]
    }
   ],
   "source": [
    "\n",
    "\n",
    "wb = load_workbook('index.xlsx')\n",
    "ws_update = wb.get_sheet_by_name('tbl_update')\n",
    "\n",
    "for i in range(0, len(df)):\n",
    "    ws_update.cell(row = i+2, column = 1).value=df[i]\n",
    "wb.save('index.xlsx')"
   ]
  },
  {
   "cell_type": "code",
   "execution_count": 46,
   "metadata": {},
   "outputs": [
    {
     "name": "stdout",
     "output_type": "stream",
     "text": [
      "fif clustering indo.html\n"
     ]
    }
   ],
   "source": [
    "print(ws_update.cell(row = 3, column = 1).value)"
   ]
  }
 ],
 "metadata": {
  "kernelspec": {
   "display_name": "Python 3.10.6 64-bit",
   "language": "python",
   "name": "python3"
  },
  "language_info": {
   "codemirror_mode": {
    "name": "ipython",
    "version": 3
   },
   "file_extension": ".py",
   "mimetype": "text/x-python",
   "name": "python",
   "nbconvert_exporter": "python",
   "pygments_lexer": "ipython3",
   "version": "3.10.6"
  },
  "orig_nbformat": 4,
  "vscode": {
   "interpreter": {
    "hash": "80df693fff9956a4c8e362c478c422a27739cc999d4d53416b2c11114ccd961d"
   }
  }
 },
 "nbformat": 4,
 "nbformat_minor": 2
}
